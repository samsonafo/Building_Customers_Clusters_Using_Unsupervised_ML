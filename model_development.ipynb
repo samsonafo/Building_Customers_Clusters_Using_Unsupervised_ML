{
 "cells": [
  {
   "cell_type": "code",
   "execution_count": 32,
   "id": "642813a6-d979-4dab-8844-85c2f72628a0",
   "metadata": {},
   "outputs": [],
   "source": [
    "#import libraries\n",
    "import pandas as pd\n",
    "import numpy as np\n",
    "import matplotlib.pyplot as plt \n",
    "import seaborn as sns\n",
    "\n",
    "from sklearn.datasets import make_classification\n",
    "from sklearn.cluster import KMeans,MeanShift,MiniBatchKMeans\n",
    "from sklearn.pipeline import Pipeline\n",
    "from sklearn.preprocessing import StandardScaler,Normalizer\n",
    "from sklearn.compose import ColumnTransformer\n",
    "\n",
    "import category_encoders as ce"
   ]
  },
  {
   "cell_type": "code",
   "execution_count": 33,
   "id": "0b90e931-c7c1-4606-a31a-dfd813596fca",
   "metadata": {},
   "outputs": [
    {
     "data": {
      "text/html": [
       "<div>\n",
       "<style scoped>\n",
       "    .dataframe tbody tr th:only-of-type {\n",
       "        vertical-align: middle;\n",
       "    }\n",
       "\n",
       "    .dataframe tbody tr th {\n",
       "        vertical-align: top;\n",
       "    }\n",
       "\n",
       "    .dataframe thead th {\n",
       "        text-align: right;\n",
       "    }\n",
       "</style>\n",
       "<table border=\"1\" class=\"dataframe\">\n",
       "  <thead>\n",
       "    <tr style=\"text-align: right;\">\n",
       "      <th></th>\n",
       "      <th>customer_ID</th>\n",
       "      <th>sex</th>\n",
       "      <th>registration_date</th>\n",
       "      <th>first_rent_date</th>\n",
       "      <th>customer_age</th>\n",
       "    </tr>\n",
       "  </thead>\n",
       "  <tbody>\n",
       "    <tr>\n",
       "      <th>0</th>\n",
       "      <td>1</td>\n",
       "      <td>Woman</td>\n",
       "      <td>01.09.20 00:14</td>\n",
       "      <td>01.09.20 01:47</td>\n",
       "      <td>34</td>\n",
       "    </tr>\n",
       "    <tr>\n",
       "      <th>1</th>\n",
       "      <td>2</td>\n",
       "      <td>man</td>\n",
       "      <td>31.08.20 21:13</td>\n",
       "      <td>31.08.20 23:50</td>\n",
       "      <td>28</td>\n",
       "    </tr>\n",
       "    <tr>\n",
       "      <th>2</th>\n",
       "      <td>3</td>\n",
       "      <td>man</td>\n",
       "      <td>31.08.20 20:53</td>\n",
       "      <td>31.08.20 23:06</td>\n",
       "      <td>23</td>\n",
       "    </tr>\n",
       "    <tr>\n",
       "      <th>3</th>\n",
       "      <td>4</td>\n",
       "      <td>Woman</td>\n",
       "      <td>31.08.20 20:50</td>\n",
       "      <td>31.08.20 23:45</td>\n",
       "      <td>24</td>\n",
       "    </tr>\n",
       "    <tr>\n",
       "      <th>4</th>\n",
       "      <td>5</td>\n",
       "      <td>Woman</td>\n",
       "      <td>31.08.20 20:45</td>\n",
       "      <td>31.08.20 23:33</td>\n",
       "      <td>28</td>\n",
       "    </tr>\n",
       "  </tbody>\n",
       "</table>\n",
       "</div>"
      ],
      "text/plain": [
       "   customer_ID    sex registration_date first_rent_date  customer_age\n",
       "0            1  Woman    01.09.20 00:14  01.09.20 01:47            34\n",
       "1            2    man    31.08.20 21:13  31.08.20 23:50            28\n",
       "2            3    man    31.08.20 20:53  31.08.20 23:06            23\n",
       "3            4  Woman    31.08.20 20:50  31.08.20 23:45            24\n",
       "4            5  Woman    31.08.20 20:45  31.08.20 23:33            28"
      ]
     },
     "execution_count": 33,
     "metadata": {},
     "output_type": "execute_result"
    }
   ],
   "source": [
    "#read in data\n",
    "customers = pd.read_csv('./data/customers.csv')\n",
    "customers.head()"
   ]
  },
  {
   "cell_type": "code",
   "execution_count": 34,
   "id": "70426d3f-a3de-43e4-a2d9-1eda23b2a58e",
   "metadata": {},
   "outputs": [
    {
     "data": {
      "text/plain": [
       "customer_ID           int64\n",
       "sex                  object\n",
       "registration_date    object\n",
       "first_rent_date      object\n",
       "customer_age          int64\n",
       "dtype: object"
      ]
     },
     "execution_count": 34,
     "metadata": {},
     "output_type": "execute_result"
    }
   ],
   "source": [
    "customers.dtypes"
   ]
  },
  {
   "cell_type": "code",
   "execution_count": 35,
   "id": "e7774e9f-3aff-4c01-aa6b-7bf83c62ed34",
   "metadata": {},
   "outputs": [
    {
     "name": "stdout",
     "output_type": "stream",
     "text": [
      "The number of customers in customers data is 10000\n"
     ]
    }
   ],
   "source": [
    "print('The number of customers in customers data is {}'.format(customers.shape[0]))"
   ]
  },
  {
   "cell_type": "code",
   "execution_count": 36,
   "id": "77a42834-dd78-4c41-a1b9-536b31702542",
   "metadata": {},
   "outputs": [],
   "source": [
    "#convert registration_date and first_rent_date to datetime format\n",
    "\n",
    "customers[[\"registration_date\",\"first_rent_date\"]] = customers[[\"registration_date\",\"first_rent_date\"]].apply(pd.to_datetime)"
   ]
  },
  {
   "cell_type": "code",
   "execution_count": 37,
   "id": "9fdb2cb8-22db-4945-9a0b-8841a69f3478",
   "metadata": {},
   "outputs": [
    {
     "data": {
      "text/html": [
       "<div>\n",
       "<style scoped>\n",
       "    .dataframe tbody tr th:only-of-type {\n",
       "        vertical-align: middle;\n",
       "    }\n",
       "\n",
       "    .dataframe tbody tr th {\n",
       "        vertical-align: top;\n",
       "    }\n",
       "\n",
       "    .dataframe thead th {\n",
       "        text-align: right;\n",
       "    }\n",
       "</style>\n",
       "<table border=\"1\" class=\"dataframe\">\n",
       "  <thead>\n",
       "    <tr style=\"text-align: right;\">\n",
       "      <th></th>\n",
       "      <th>place</th>\n",
       "      <th>package</th>\n",
       "      <th>rent_id</th>\n",
       "      <th>customer_ID</th>\n",
       "      <th>rental_start_date</th>\n",
       "      <th>distance</th>\n",
       "      <th>duration</th>\n",
       "      <th>price</th>\n",
       "    </tr>\n",
       "  </thead>\n",
       "  <tbody>\n",
       "    <tr>\n",
       "      <th>0</th>\n",
       "      <td>Berlin</td>\n",
       "      <td>pay_per_minute</td>\n",
       "      <td>d9b784a3-4</td>\n",
       "      <td>17091</td>\n",
       "      <td>15.04.20</td>\n",
       "      <td>2</td>\n",
       "      <td>7</td>\n",
       "      <td>2.07</td>\n",
       "    </tr>\n",
       "    <tr>\n",
       "      <th>1</th>\n",
       "      <td>Hamburg</td>\n",
       "      <td>pay_per_minute</td>\n",
       "      <td>0906b4a9-e</td>\n",
       "      <td>66145</td>\n",
       "      <td>15.02.20</td>\n",
       "      <td>4</td>\n",
       "      <td>12</td>\n",
       "      <td>2.38</td>\n",
       "    </tr>\n",
       "    <tr>\n",
       "      <th>2</th>\n",
       "      <td>Hamburg</td>\n",
       "      <td>pay_per_minute</td>\n",
       "      <td>43d2d8c0-6</td>\n",
       "      <td>62554</td>\n",
       "      <td>24.07.20</td>\n",
       "      <td>4</td>\n",
       "      <td>15</td>\n",
       "      <td>4.10</td>\n",
       "    </tr>\n",
       "    <tr>\n",
       "      <th>3</th>\n",
       "      <td>Berlin</td>\n",
       "      <td>pay_per_minute</td>\n",
       "      <td>b92469d5-0</td>\n",
       "      <td>31508</td>\n",
       "      <td>13.01.20</td>\n",
       "      <td>10</td>\n",
       "      <td>27</td>\n",
       "      <td>5.40</td>\n",
       "    </tr>\n",
       "    <tr>\n",
       "      <th>4</th>\n",
       "      <td>Hamburg</td>\n",
       "      <td>pay_per_minute</td>\n",
       "      <td>b3c72862-3</td>\n",
       "      <td>66064</td>\n",
       "      <td>08.06.20</td>\n",
       "      <td>2</td>\n",
       "      <td>8</td>\n",
       "      <td>1.79</td>\n",
       "    </tr>\n",
       "  </tbody>\n",
       "</table>\n",
       "</div>"
      ],
      "text/plain": [
       "     place         package     rent_id  customer_ID rental_start_date  \\\n",
       "0   Berlin  pay_per_minute  d9b784a3-4        17091          15.04.20   \n",
       "1  Hamburg  pay_per_minute  0906b4a9-e        66145          15.02.20   \n",
       "2  Hamburg  pay_per_minute  43d2d8c0-6        62554          24.07.20   \n",
       "3   Berlin  pay_per_minute  b92469d5-0        31508          13.01.20   \n",
       "4  Hamburg  pay_per_minute  b3c72862-3        66064          08.06.20   \n",
       "\n",
       "   distance  duration  price  \n",
       "0         2         7   2.07  \n",
       "1         4        12   2.38  \n",
       "2         4        15   4.10  \n",
       "3        10        27   5.40  \n",
       "4         2         8   1.79  "
      ]
     },
     "execution_count": 37,
     "metadata": {},
     "output_type": "execute_result"
    }
   ],
   "source": [
    "rentals = pd.read_csv('./data/rentals.csv')\n",
    "rentals.head()"
   ]
  },
  {
   "cell_type": "code",
   "execution_count": 38,
   "id": "551171e0-3353-4ec9-9abd-4256f34381d9",
   "metadata": {},
   "outputs": [
    {
     "name": "stdout",
     "output_type": "stream",
     "text": [
      "The number of rents in rentals data is 100000\n"
     ]
    }
   ],
   "source": [
    "print('The number of rents in rentals data is {}'.format(rentals.shape[0]))"
   ]
  },
  {
   "cell_type": "markdown",
   "id": "bf5c1ef5-0318-4db6-92a8-d58b80482c13",
   "metadata": {},
   "source": [
    "#### Feature Engineering: Creating New Features"
   ]
  },
  {
   "cell_type": "code",
   "execution_count": 39,
   "id": "e6b49c10-7d64-42ba-bc39-f915f543bdc0",
   "metadata": {},
   "outputs": [
    {
     "data": {
      "text/html": [
       "<div>\n",
       "<style scoped>\n",
       "    .dataframe tbody tr th:only-of-type {\n",
       "        vertical-align: middle;\n",
       "    }\n",
       "\n",
       "    .dataframe tbody tr th {\n",
       "        vertical-align: top;\n",
       "    }\n",
       "\n",
       "    .dataframe thead th {\n",
       "        text-align: right;\n",
       "    }\n",
       "</style>\n",
       "<table border=\"1\" class=\"dataframe\">\n",
       "  <thead>\n",
       "    <tr style=\"text-align: right;\">\n",
       "      <th></th>\n",
       "      <th>place</th>\n",
       "      <th>package</th>\n",
       "      <th>rent_id</th>\n",
       "      <th>customer_ID</th>\n",
       "      <th>rental_start_date</th>\n",
       "      <th>distance</th>\n",
       "      <th>duration</th>\n",
       "      <th>price</th>\n",
       "      <th>sex</th>\n",
       "      <th>registration_date</th>\n",
       "      <th>first_rent_date</th>\n",
       "      <th>customer_age</th>\n",
       "    </tr>\n",
       "  </thead>\n",
       "  <tbody>\n",
       "    <tr>\n",
       "      <th>0</th>\n",
       "      <td>Hamburg</td>\n",
       "      <td>pay_per_minute</td>\n",
       "      <td>4071ef0d-6</td>\n",
       "      <td>4729</td>\n",
       "      <td>22.07.20</td>\n",
       "      <td>7</td>\n",
       "      <td>28</td>\n",
       "      <td>6.23</td>\n",
       "      <td>Woman</td>\n",
       "      <td>2020-05-25 01:15:00</td>\n",
       "      <td>2020-05-29 17:13:00</td>\n",
       "      <td>23</td>\n",
       "    </tr>\n",
       "    <tr>\n",
       "      <th>1</th>\n",
       "      <td>Hamburg</td>\n",
       "      <td>pay_per_minute</td>\n",
       "      <td>331ba874-8</td>\n",
       "      <td>4729</td>\n",
       "      <td>12.08.20</td>\n",
       "      <td>4</td>\n",
       "      <td>11</td>\n",
       "      <td>2.64</td>\n",
       "      <td>Woman</td>\n",
       "      <td>2020-05-25 01:15:00</td>\n",
       "      <td>2020-05-29 17:13:00</td>\n",
       "      <td>23</td>\n",
       "    </tr>\n",
       "    <tr>\n",
       "      <th>2</th>\n",
       "      <td>Hamburg</td>\n",
       "      <td>pay_per_minute</td>\n",
       "      <td>4071ef0d-6</td>\n",
       "      <td>4729</td>\n",
       "      <td>22.07.20</td>\n",
       "      <td>7</td>\n",
       "      <td>28</td>\n",
       "      <td>6.23</td>\n",
       "      <td>Woman</td>\n",
       "      <td>2020-05-25 01:15:00</td>\n",
       "      <td>2020-05-29 17:13:00</td>\n",
       "      <td>23</td>\n",
       "    </tr>\n",
       "    <tr>\n",
       "      <th>3</th>\n",
       "      <td>Hamburg</td>\n",
       "      <td>pay_per_minute</td>\n",
       "      <td>fbcb4dfb-6</td>\n",
       "      <td>4729</td>\n",
       "      <td>26.08.20</td>\n",
       "      <td>43</td>\n",
       "      <td>75</td>\n",
       "      <td>19.21</td>\n",
       "      <td>Woman</td>\n",
       "      <td>2020-05-25 01:15:00</td>\n",
       "      <td>2020-05-29 17:13:00</td>\n",
       "      <td>23</td>\n",
       "    </tr>\n",
       "    <tr>\n",
       "      <th>4</th>\n",
       "      <td>Hamburg</td>\n",
       "      <td>pay_per_minute</td>\n",
       "      <td>38875c74-d</td>\n",
       "      <td>4729</td>\n",
       "      <td>24.07.20</td>\n",
       "      <td>16</td>\n",
       "      <td>29</td>\n",
       "      <td>7.69</td>\n",
       "      <td>Woman</td>\n",
       "      <td>2020-05-25 01:15:00</td>\n",
       "      <td>2020-05-29 17:13:00</td>\n",
       "      <td>23</td>\n",
       "    </tr>\n",
       "  </tbody>\n",
       "</table>\n",
       "</div>"
      ],
      "text/plain": [
       "     place         package     rent_id  customer_ID rental_start_date  \\\n",
       "0  Hamburg  pay_per_minute  4071ef0d-6         4729          22.07.20   \n",
       "1  Hamburg  pay_per_minute  331ba874-8         4729          12.08.20   \n",
       "2  Hamburg  pay_per_minute  4071ef0d-6         4729          22.07.20   \n",
       "3  Hamburg  pay_per_minute  fbcb4dfb-6         4729          26.08.20   \n",
       "4  Hamburg  pay_per_minute  38875c74-d         4729          24.07.20   \n",
       "\n",
       "   distance  duration  price    sex   registration_date     first_rent_date  \\\n",
       "0         7        28   6.23  Woman 2020-05-25 01:15:00 2020-05-29 17:13:00   \n",
       "1         4        11   2.64  Woman 2020-05-25 01:15:00 2020-05-29 17:13:00   \n",
       "2         7        28   6.23  Woman 2020-05-25 01:15:00 2020-05-29 17:13:00   \n",
       "3        43        75  19.21  Woman 2020-05-25 01:15:00 2020-05-29 17:13:00   \n",
       "4        16        29   7.69  Woman 2020-05-25 01:15:00 2020-05-29 17:13:00   \n",
       "\n",
       "   customer_age  \n",
       "0            23  \n",
       "1            23  \n",
       "2            23  \n",
       "3            23  \n",
       "4            23  "
      ]
     },
     "execution_count": 39,
     "metadata": {},
     "output_type": "execute_result"
    }
   ],
   "source": [
    "#merge the 2 dataframe's together.\n",
    "\n",
    "df = rentals.merge(customers, on='customer_ID')\n",
    "df.head()"
   ]
  },
  {
   "cell_type": "code",
   "execution_count": 41,
   "id": "27c270c2-259b-430a-8cad-d5ad12b71c3e",
   "metadata": {},
   "outputs": [],
   "source": [
    "#remove all drivers above the age of 80\n",
    "\n",
    "df = df[df.customer_age <= 80]"
   ]
  },
  {
   "cell_type": "code",
   "execution_count": 42,
   "id": "f6319e15-8013-49b1-abe7-fbc11176d528",
   "metadata": {},
   "outputs": [
    {
     "name": "stderr",
     "output_type": "stream",
     "text": [
      "/Users/admin/anaconda3/envs/test/lib/python3.8/site-packages/pandas/core/frame.py:3509: SettingWithCopyWarning: \n",
      "A value is trying to be set on a copy of a slice from a DataFrame.\n",
      "Try using .loc[row_indexer,col_indexer] = value instead\n",
      "\n",
      "See the caveats in the documentation: http://pandas.pydata.org/pandas-docs/stable/user_guide/indexing.html#returning-a-view-versus-a-copy\n",
      "  self[k1] = value[k2]\n",
      "/var/folders/r2/npg0bdw94_x2md_1zwp1191h0000gn/T/ipykernel_2768/3159949058.py:7: SettingWithCopyWarning: \n",
      "A value is trying to be set on a copy of a slice from a DataFrame.\n",
      "Try using .loc[row_indexer,col_indexer] = value instead\n",
      "\n",
      "See the caveats in the documentation: http://pandas.pydata.org/pandas-docs/stable/user_guide/indexing.html#returning-a-view-versus-a-copy\n",
      "  df['rental_start_month'] = pd.DatetimeIndex(df[\"rental_start_date\"]).month\n",
      "/var/folders/r2/npg0bdw94_x2md_1zwp1191h0000gn/T/ipykernel_2768/3159949058.py:8: SettingWithCopyWarning: \n",
      "A value is trying to be set on a copy of a slice from a DataFrame.\n",
      "Try using .loc[row_indexer,col_indexer] = value instead\n",
      "\n",
      "See the caveats in the documentation: http://pandas.pydata.org/pandas-docs/stable/user_guide/indexing.html#returning-a-view-versus-a-copy\n",
      "  df['rental_start_year'] = pd.DatetimeIndex(df[\"rental_start_date\"]).year\n"
     ]
    }
   ],
   "source": [
    "#convert rental_start_date,registration_datetime_local, Rental_First_Datetime_local to date-type\n",
    "\n",
    "df[[\"rental_start_date\", \"registration_date\", \"first_rent_date\"]] = df[[\"rental_start_date\", \"registration_date\", \"first_rent_date\"]].apply(pd.to_datetime,errors='coerce')\n",
    "\n",
    "\n",
    "#extract rental_start_month and rental_start_year from rental_start_date\n",
    "df['rental_start_month'] = pd.DatetimeIndex(df[\"rental_start_date\"]).month\n",
    "df['rental_start_year'] = pd.DatetimeIndex(df[\"rental_start_date\"]).year"
   ]
  },
  {
   "cell_type": "code",
   "execution_count": 43,
   "id": "2fd12c91-6c96-4240-a75d-5eb8ccc689cd",
   "metadata": {},
   "outputs": [
    {
     "name": "stdout",
     "output_type": "stream",
     "text": [
      "The latest date in the dataframe is 2020-12-08 00:00:00\n",
      "The earliest date in the dataframe is 2020-01-02 00:00:00\n"
     ]
    }
   ],
   "source": [
    "print('The latest date in the dataframe is {}'.format(df[\"rental_start_date\"].max()))\n",
    "print('The earliest date in the dataframe is {}'.format(df[\"rental_start_date\"].min()))"
   ]
  },
  {
   "cell_type": "code",
   "execution_count": 44,
   "id": "2db5a294-1ddf-410a-a6c9-6984915fd18a",
   "metadata": {},
   "outputs": [],
   "source": [
    "#calculate the monthly average rent count from df\n",
    "df_info = df.groupby(['customer_ID','rental_start_month']).agg({'rent_id':'nunique'}).reset_index(drop=False).groupby('customer_ID')['rental_start_month'].sum()/12\n",
    "\n",
    "#calculate the monthly revenue from each customer from df\n",
    "df_info_mean = df.groupby(['customer_ID','rental_start_month']).agg({'price':'mean',\n",
    "                                                                    'duration':'mean'}).reset_index(drop=False)\n",
    "                          \n",
    "#merge new info with customer data    \n",
    "customers = customers.merge(df_info,on='customer_ID').merge(df_info_mean,on='customer_ID').rename(columns=\n",
    "                                                                                                  {'rental_start_month_x':'monthly_rent_average',\n",
    "                                                                                                   'price':'mean_monthly_rental_revenue',\n",
    "                                                                                                  'duration':'mean_monthly_rental_duration'})"
   ]
  },
  {
   "cell_type": "code",
   "execution_count": 45,
   "id": "4267de8a-910b-4aeb-b387-7b360d77a408",
   "metadata": {},
   "outputs": [
    {
     "data": {
      "text/html": [
       "<div>\n",
       "<style scoped>\n",
       "    .dataframe tbody tr th:only-of-type {\n",
       "        vertical-align: middle;\n",
       "    }\n",
       "\n",
       "    .dataframe tbody tr th {\n",
       "        vertical-align: top;\n",
       "    }\n",
       "\n",
       "    .dataframe thead th {\n",
       "        text-align: right;\n",
       "    }\n",
       "</style>\n",
       "<table border=\"1\" class=\"dataframe\">\n",
       "  <thead>\n",
       "    <tr style=\"text-align: right;\">\n",
       "      <th></th>\n",
       "      <th>sex</th>\n",
       "      <th>customer_age</th>\n",
       "      <th>monthly_rent_average</th>\n",
       "      <th>mean_monthly_rental_revenue</th>\n",
       "      <th>mean_monthly_rental_duration</th>\n",
       "      <th>registration_to_rental_days</th>\n",
       "    </tr>\n",
       "  </thead>\n",
       "  <tbody>\n",
       "    <tr>\n",
       "      <th>0</th>\n",
       "      <td>Woman</td>\n",
       "      <td>34</td>\n",
       "      <td>0.666667</td>\n",
       "      <td>3.8</td>\n",
       "      <td>32.0</td>\n",
       "      <td>-1</td>\n",
       "    </tr>\n",
       "    <tr>\n",
       "      <th>1</th>\n",
       "      <td>man</td>\n",
       "      <td>19</td>\n",
       "      <td>0.666667</td>\n",
       "      <td>0.0</td>\n",
       "      <td>10.0</td>\n",
       "      <td>-1</td>\n",
       "    </tr>\n",
       "    <tr>\n",
       "      <th>2</th>\n",
       "      <td>man</td>\n",
       "      <td>37</td>\n",
       "      <td>0.666667</td>\n",
       "      <td>0.0</td>\n",
       "      <td>25.0</td>\n",
       "      <td>-1</td>\n",
       "    </tr>\n",
       "    <tr>\n",
       "      <th>3</th>\n",
       "      <td>man</td>\n",
       "      <td>41</td>\n",
       "      <td>0.666667</td>\n",
       "      <td>0.0</td>\n",
       "      <td>20.0</td>\n",
       "      <td>-1</td>\n",
       "    </tr>\n",
       "    <tr>\n",
       "      <th>4</th>\n",
       "      <td>man</td>\n",
       "      <td>22</td>\n",
       "      <td>0.666667</td>\n",
       "      <td>0.0</td>\n",
       "      <td>43.0</td>\n",
       "      <td>-1</td>\n",
       "    </tr>\n",
       "  </tbody>\n",
       "</table>\n",
       "</div>"
      ],
      "text/plain": [
       "     sex  customer_age  monthly_rent_average  mean_monthly_rental_revenue  \\\n",
       "0  Woman            34              0.666667                          3.8   \n",
       "1    man            19              0.666667                          0.0   \n",
       "2    man            37              0.666667                          0.0   \n",
       "3    man            41              0.666667                          0.0   \n",
       "4    man            22              0.666667                          0.0   \n",
       "\n",
       "   mean_monthly_rental_duration  registration_to_rental_days  \n",
       "0                          32.0                           -1  \n",
       "1                          10.0                           -1  \n",
       "2                          25.0                           -1  \n",
       "3                          20.0                           -1  \n",
       "4                          43.0                           -1  "
      ]
     },
     "execution_count": 45,
     "metadata": {},
     "output_type": "execute_result"
    }
   ],
   "source": [
    "#create day distance registration to rental\n",
    "customers['registration_to_rental_days'] = (customers['registration_date'] - customers['first_rent_date']).dt.days\n",
    "\n",
    "#drop all datetime columns and ID columns (rental_ID & customer_ID)\n",
    "customers_ = customers.drop(['rental_start_month_y','registration_date','first_rent_date','customer_ID'],axis=1)\n",
    "\n",
    "customers_.head()"
   ]
  },
  {
   "cell_type": "code",
   "execution_count": 46,
   "id": "4a7bf97c-88ea-4659-8ec4-116f844b4aa2",
   "metadata": {},
   "outputs": [],
   "source": [
    "#save df to disk\n",
    "#df.to_csv('./data/df_dashboard.csv',index=False)"
   ]
  },
  {
   "cell_type": "markdown",
   "id": "9cf63c79-d9e2-445c-bf0a-7571c1592d91",
   "metadata": {},
   "source": [
    "#### Model Development"
   ]
  },
  {
   "cell_type": "code",
   "execution_count": 13,
   "id": "a7c299c6-5225-486c-8aac-721dbe934c3a",
   "metadata": {},
   "outputs": [],
   "source": [
    "#initialize the ordinal_encoder for Gender\n",
    "ce_ord = ce.OrdinalEncoder(cols = ['sex'])\n",
    "\n",
    "#set up the column transfomer\n",
    "ct = ColumnTransformer([\n",
    "        ('transformer', Normalizer(norm='l1'), ['customer_age', 'mean_monthly_rental_revenue','mean_monthly_rental_duration','registration_to_rental_days'])\n",
    "    ], remainder='passthrough')"
   ]
  },
  {
   "cell_type": "code",
   "execution_count": 14,
   "id": "84738ce8-d473-41c2-bdb4-513c348a2152",
   "metadata": {},
   "outputs": [],
   "source": [
    "#instantiate the clustering model\n",
    "kmeans = KMeans(n_clusters = 5,algorithm='full')\n",
    "\n",
    "#build a pipeline for the kmeans clustering model\n",
    "pipe_kmeans = Pipeline([('ordinal_encode',ce_ord),\n",
    "                        ('transformer', ct),\n",
    "                        ('kmeans', kmeans)])\n",
    "\n",
    "\n",
    "#fit the k-means model\n",
    "pipe_kmeans.fit(customers_)\n",
    "\n",
    "#assign a cluster to each customer using the kmeans cluster\n",
    "customer_cluster_kmeans = pipe_kmeans.predict(customers_)"
   ]
  },
  {
   "cell_type": "code",
   "execution_count": 15,
   "id": "fab28282-178a-4a02-a6e1-9e740308347f",
   "metadata": {},
   "outputs": [
    {
     "data": {
      "text/plain": [
       "{0: 3332, 1: 869, 2: 1773, 3: 1570, 4: 571}"
      ]
     },
     "execution_count": 15,
     "metadata": {},
     "output_type": "execute_result"
    }
   ],
   "source": [
    "#retrieve and count of each cluster group of the kmeans cluster\n",
    "unique, counts = np.unique(customer_cluster_kmeans, return_counts=True)\n",
    "dict(zip(unique, counts))"
   ]
  },
  {
   "cell_type": "code",
   "execution_count": 16,
   "id": "58971c5e-dd93-43b5-b720-83b843521768",
   "metadata": {},
   "outputs": [],
   "source": [
    "#build a mean MiniBatchKMeans model\n",
    "minibatch = MiniBatchKMeans(n_clusters=5,batch_size=1000)\n",
    "\n",
    "#build a pipeline for the kmeans clustering model\n",
    "pipe_minibatch = Pipeline([('ordinal_encode',ce_ord),\n",
    "                           ('transformer', ct),\n",
    "                          ('minbatch', minibatch)])\n",
    "\n",
    "\n",
    "#fit the mean shift model\n",
    "pipe_minibatch.fit(customers_)\n",
    "\n",
    "#assign a cluster to each customer using the shift model\n",
    "customer_cluster_minibatch = pipe_minibatch.predict(customers_)"
   ]
  },
  {
   "cell_type": "code",
   "execution_count": 17,
   "id": "1a25ad22-e8aa-4fc6-b5d9-36a937f90cb2",
   "metadata": {},
   "outputs": [
    {
     "data": {
      "text/plain": [
       "{0: 1009, 1: 3332, 2: 1594, 3: 611, 4: 1569}"
      ]
     },
     "execution_count": 17,
     "metadata": {},
     "output_type": "execute_result"
    }
   ],
   "source": [
    "#retrieve and count of each cluster group of the minibatch KMeans model\n",
    "unique, counts = np.unique(customer_cluster_minibatch, return_counts=True)\n",
    "dict(zip(unique, counts))"
   ]
  },
  {
   "cell_type": "code",
   "execution_count": 18,
   "id": "2600b413-8286-4fae-8886-289883cfa2c0",
   "metadata": {},
   "outputs": [
    {
     "data": {
      "text/html": [
       "<div>\n",
       "<style scoped>\n",
       "    .dataframe tbody tr th:only-of-type {\n",
       "        vertical-align: middle;\n",
       "    }\n",
       "\n",
       "    .dataframe tbody tr th {\n",
       "        vertical-align: top;\n",
       "    }\n",
       "\n",
       "    .dataframe thead th {\n",
       "        text-align: right;\n",
       "    }\n",
       "</style>\n",
       "<table border=\"1\" class=\"dataframe\">\n",
       "  <thead>\n",
       "    <tr style=\"text-align: right;\">\n",
       "      <th></th>\n",
       "      <th>customer_ID</th>\n",
       "      <th>sex</th>\n",
       "      <th>registration_date</th>\n",
       "      <th>first_rent_date</th>\n",
       "      <th>customer_age</th>\n",
       "      <th>monthly_rent_average</th>\n",
       "      <th>rental_start_month_y</th>\n",
       "      <th>mean_monthly_rental_revenue</th>\n",
       "      <th>mean_monthly_rental_duration</th>\n",
       "      <th>registration_to_rental_days</th>\n",
       "      <th>customer_group</th>\n",
       "    </tr>\n",
       "  </thead>\n",
       "  <tbody>\n",
       "    <tr>\n",
       "      <th>0</th>\n",
       "      <td>1</td>\n",
       "      <td>Woman</td>\n",
       "      <td>2020-01-09 00:14:00</td>\n",
       "      <td>2020-01-09 01:47:00</td>\n",
       "      <td>34</td>\n",
       "      <td>0.666667</td>\n",
       "      <td>8</td>\n",
       "      <td>3.80</td>\n",
       "      <td>32.0</td>\n",
       "      <td>-1</td>\n",
       "      <td>2</td>\n",
       "    </tr>\n",
       "    <tr>\n",
       "      <th>1</th>\n",
       "      <td>6</td>\n",
       "      <td>man</td>\n",
       "      <td>2020-08-31 19:56:00</td>\n",
       "      <td>2020-08-31 21:00:00</td>\n",
       "      <td>19</td>\n",
       "      <td>0.666667</td>\n",
       "      <td>8</td>\n",
       "      <td>0.00</td>\n",
       "      <td>10.0</td>\n",
       "      <td>-1</td>\n",
       "      <td>0</td>\n",
       "    </tr>\n",
       "    <tr>\n",
       "      <th>2</th>\n",
       "      <td>8</td>\n",
       "      <td>man</td>\n",
       "      <td>2020-08-31 17:34:00</td>\n",
       "      <td>2020-08-31 18:43:00</td>\n",
       "      <td>37</td>\n",
       "      <td>0.666667</td>\n",
       "      <td>8</td>\n",
       "      <td>0.00</td>\n",
       "      <td>25.0</td>\n",
       "      <td>-1</td>\n",
       "      <td>0</td>\n",
       "    </tr>\n",
       "    <tr>\n",
       "      <th>3</th>\n",
       "      <td>23</td>\n",
       "      <td>man</td>\n",
       "      <td>2020-08-30 18:20:00</td>\n",
       "      <td>2020-08-30 20:20:00</td>\n",
       "      <td>41</td>\n",
       "      <td>0.666667</td>\n",
       "      <td>8</td>\n",
       "      <td>0.00</td>\n",
       "      <td>20.0</td>\n",
       "      <td>-1</td>\n",
       "      <td>0</td>\n",
       "    </tr>\n",
       "    <tr>\n",
       "      <th>4</th>\n",
       "      <td>24</td>\n",
       "      <td>man</td>\n",
       "      <td>2020-08-30 16:52:00</td>\n",
       "      <td>2020-08-30 18:22:00</td>\n",
       "      <td>22</td>\n",
       "      <td>0.666667</td>\n",
       "      <td>8</td>\n",
       "      <td>0.00</td>\n",
       "      <td>43.0</td>\n",
       "      <td>-1</td>\n",
       "      <td>0</td>\n",
       "    </tr>\n",
       "    <tr>\n",
       "      <th>5</th>\n",
       "      <td>32</td>\n",
       "      <td>man</td>\n",
       "      <td>2020-08-30 12:41:00</td>\n",
       "      <td>2020-08-30 16:12:00</td>\n",
       "      <td>27</td>\n",
       "      <td>0.666667</td>\n",
       "      <td>8</td>\n",
       "      <td>7.69</td>\n",
       "      <td>36.0</td>\n",
       "      <td>-1</td>\n",
       "      <td>0</td>\n",
       "    </tr>\n",
       "    <tr>\n",
       "      <th>6</th>\n",
       "      <td>35</td>\n",
       "      <td>man</td>\n",
       "      <td>2020-08-30 12:31:00</td>\n",
       "      <td>2020-08-30 20:24:00</td>\n",
       "      <td>32</td>\n",
       "      <td>0.666667</td>\n",
       "      <td>8</td>\n",
       "      <td>7.67</td>\n",
       "      <td>48.0</td>\n",
       "      <td>-1</td>\n",
       "      <td>0</td>\n",
       "    </tr>\n",
       "    <tr>\n",
       "      <th>7</th>\n",
       "      <td>38</td>\n",
       "      <td>Woman</td>\n",
       "      <td>2020-08-30 11:54:00</td>\n",
       "      <td>2020-08-30 12:26:00</td>\n",
       "      <td>24</td>\n",
       "      <td>0.666667</td>\n",
       "      <td>8</td>\n",
       "      <td>0.00</td>\n",
       "      <td>1.0</td>\n",
       "      <td>-1</td>\n",
       "      <td>2</td>\n",
       "    </tr>\n",
       "    <tr>\n",
       "      <th>8</th>\n",
       "      <td>41</td>\n",
       "      <td>man</td>\n",
       "      <td>2020-08-30 10:45:00</td>\n",
       "      <td>2020-08-30 11:59:00</td>\n",
       "      <td>33</td>\n",
       "      <td>0.666667</td>\n",
       "      <td>8</td>\n",
       "      <td>0.00</td>\n",
       "      <td>40.0</td>\n",
       "      <td>-1</td>\n",
       "      <td>0</td>\n",
       "    </tr>\n",
       "    <tr>\n",
       "      <th>9</th>\n",
       "      <td>43</td>\n",
       "      <td>man</td>\n",
       "      <td>2020-08-30 10:05:00</td>\n",
       "      <td>2020-08-31 09:45:00</td>\n",
       "      <td>52</td>\n",
       "      <td>0.666667</td>\n",
       "      <td>8</td>\n",
       "      <td>4.53</td>\n",
       "      <td>30.0</td>\n",
       "      <td>-1</td>\n",
       "      <td>0</td>\n",
       "    </tr>\n",
       "  </tbody>\n",
       "</table>\n",
       "</div>"
      ],
      "text/plain": [
       "   customer_ID    sex   registration_date     first_rent_date  customer_age  \\\n",
       "0            1  Woman 2020-01-09 00:14:00 2020-01-09 01:47:00            34   \n",
       "1            6    man 2020-08-31 19:56:00 2020-08-31 21:00:00            19   \n",
       "2            8    man 2020-08-31 17:34:00 2020-08-31 18:43:00            37   \n",
       "3           23    man 2020-08-30 18:20:00 2020-08-30 20:20:00            41   \n",
       "4           24    man 2020-08-30 16:52:00 2020-08-30 18:22:00            22   \n",
       "5           32    man 2020-08-30 12:41:00 2020-08-30 16:12:00            27   \n",
       "6           35    man 2020-08-30 12:31:00 2020-08-30 20:24:00            32   \n",
       "7           38  Woman 2020-08-30 11:54:00 2020-08-30 12:26:00            24   \n",
       "8           41    man 2020-08-30 10:45:00 2020-08-30 11:59:00            33   \n",
       "9           43    man 2020-08-30 10:05:00 2020-08-31 09:45:00            52   \n",
       "\n",
       "   monthly_rent_average  rental_start_month_y  mean_monthly_rental_revenue  \\\n",
       "0              0.666667                     8                         3.80   \n",
       "1              0.666667                     8                         0.00   \n",
       "2              0.666667                     8                         0.00   \n",
       "3              0.666667                     8                         0.00   \n",
       "4              0.666667                     8                         0.00   \n",
       "5              0.666667                     8                         7.69   \n",
       "6              0.666667                     8                         7.67   \n",
       "7              0.666667                     8                         0.00   \n",
       "8              0.666667                     8                         0.00   \n",
       "9              0.666667                     8                         4.53   \n",
       "\n",
       "   mean_monthly_rental_duration  registration_to_rental_days  customer_group  \n",
       "0                          32.0                           -1               2  \n",
       "1                          10.0                           -1               0  \n",
       "2                          25.0                           -1               0  \n",
       "3                          20.0                           -1               0  \n",
       "4                          43.0                           -1               0  \n",
       "5                          36.0                           -1               0  \n",
       "6                          48.0                           -1               0  \n",
       "7                           1.0                           -1               2  \n",
       "8                          40.0                           -1               0  \n",
       "9                          30.0                           -1               0  "
      ]
     },
     "execution_count": 18,
     "metadata": {},
     "output_type": "execute_result"
    }
   ],
   "source": [
    "#plug in the clusters generated by the kmeans clustering algorithm\n",
    "customers['customer_group'] = customer_cluster_kmeans\n",
    "\n",
    "customers.head(10)"
   ]
  },
  {
   "cell_type": "code",
   "execution_count": 19,
   "id": "947693f0-f086-4bcd-9da3-a4368315de4d",
   "metadata": {},
   "outputs": [
    {
     "data": {
      "text/plain": [
       "0    3332\n",
       "2    1773\n",
       "3    1570\n",
       "1     869\n",
       "4     571\n",
       "Name: customer_group, dtype: int64"
      ]
     },
     "execution_count": 19,
     "metadata": {},
     "output_type": "execute_result"
    }
   ],
   "source": [
    "customers.customer_group.value_counts()"
   ]
  },
  {
   "cell_type": "markdown",
   "id": "b1ae887d-ddf0-42c1-9ad1-35aa18e5cabe",
   "metadata": {},
   "source": [
    "#### Explore Model Results"
   ]
  },
  {
   "cell_type": "code",
   "execution_count": 20,
   "id": "49e6d1f8-2538-4f8b-9156-865f03eb60f7",
   "metadata": {},
   "outputs": [
    {
     "data": {
      "text/html": [
       "<div>\n",
       "<style scoped>\n",
       "    .dataframe tbody tr th:only-of-type {\n",
       "        vertical-align: middle;\n",
       "    }\n",
       "\n",
       "    .dataframe tbody tr th {\n",
       "        vertical-align: top;\n",
       "    }\n",
       "\n",
       "    .dataframe thead tr th {\n",
       "        text-align: left;\n",
       "    }\n",
       "\n",
       "    .dataframe thead tr:last-of-type th {\n",
       "        text-align: right;\n",
       "    }\n",
       "</style>\n",
       "<table border=\"1\" class=\"dataframe\">\n",
       "  <thead>\n",
       "    <tr>\n",
       "      <th></th>\n",
       "      <th colspan=\"8\" halign=\"left\">monthly_rent_average</th>\n",
       "      <th colspan=\"8\" halign=\"left\">registration_to_rental_days</th>\n",
       "    </tr>\n",
       "    <tr>\n",
       "      <th></th>\n",
       "      <th>count</th>\n",
       "      <th>mean</th>\n",
       "      <th>std</th>\n",
       "      <th>min</th>\n",
       "      <th>25%</th>\n",
       "      <th>50%</th>\n",
       "      <th>75%</th>\n",
       "      <th>max</th>\n",
       "      <th>count</th>\n",
       "      <th>mean</th>\n",
       "      <th>std</th>\n",
       "      <th>min</th>\n",
       "      <th>25%</th>\n",
       "      <th>50%</th>\n",
       "      <th>75%</th>\n",
       "      <th>max</th>\n",
       "    </tr>\n",
       "    <tr>\n",
       "      <th>customer_group</th>\n",
       "      <th></th>\n",
       "      <th></th>\n",
       "      <th></th>\n",
       "      <th></th>\n",
       "      <th></th>\n",
       "      <th></th>\n",
       "      <th></th>\n",
       "      <th></th>\n",
       "      <th></th>\n",
       "      <th></th>\n",
       "      <th></th>\n",
       "      <th></th>\n",
       "      <th></th>\n",
       "      <th></th>\n",
       "      <th></th>\n",
       "      <th></th>\n",
       "    </tr>\n",
       "  </thead>\n",
       "  <tbody>\n",
       "    <tr>\n",
       "      <th>0</th>\n",
       "      <td>3332.0</td>\n",
       "      <td>0.67</td>\n",
       "      <td>0.35</td>\n",
       "      <td>0.08</td>\n",
       "      <td>0.42</td>\n",
       "      <td>0.67</td>\n",
       "      <td>0.92</td>\n",
       "      <td>1.33</td>\n",
       "      <td>3332.0</td>\n",
       "      <td>77.57</td>\n",
       "      <td>802.69</td>\n",
       "      <td>-340.0</td>\n",
       "      <td>-13.0</td>\n",
       "      <td>-1.0</td>\n",
       "      <td>-1.0</td>\n",
       "      <td>7641.0</td>\n",
       "    </tr>\n",
       "    <tr>\n",
       "      <th>1</th>\n",
       "      <td>869.0</td>\n",
       "      <td>2.08</td>\n",
       "      <td>0.50</td>\n",
       "      <td>1.42</td>\n",
       "      <td>1.67</td>\n",
       "      <td>2.00</td>\n",
       "      <td>2.50</td>\n",
       "      <td>3.17</td>\n",
       "      <td>869.0</td>\n",
       "      <td>-9.30</td>\n",
       "      <td>79.74</td>\n",
       "      <td>-321.0</td>\n",
       "      <td>-14.0</td>\n",
       "      <td>-1.0</td>\n",
       "      <td>-1.0</td>\n",
       "      <td>265.0</td>\n",
       "    </tr>\n",
       "    <tr>\n",
       "      <th>2</th>\n",
       "      <td>1773.0</td>\n",
       "      <td>0.68</td>\n",
       "      <td>0.34</td>\n",
       "      <td>0.08</td>\n",
       "      <td>0.50</td>\n",
       "      <td>0.67</td>\n",
       "      <td>0.92</td>\n",
       "      <td>1.33</td>\n",
       "      <td>1773.0</td>\n",
       "      <td>-8.06</td>\n",
       "      <td>76.74</td>\n",
       "      <td>-339.0</td>\n",
       "      <td>-19.0</td>\n",
       "      <td>-1.0</td>\n",
       "      <td>-1.0</td>\n",
       "      <td>333.0</td>\n",
       "    </tr>\n",
       "    <tr>\n",
       "      <th>3</th>\n",
       "      <td>1570.0</td>\n",
       "      <td>2.03</td>\n",
       "      <td>0.45</td>\n",
       "      <td>1.42</td>\n",
       "      <td>1.67</td>\n",
       "      <td>1.92</td>\n",
       "      <td>2.33</td>\n",
       "      <td>3.17</td>\n",
       "      <td>1570.0</td>\n",
       "      <td>177.73</td>\n",
       "      <td>1168.51</td>\n",
       "      <td>-274.0</td>\n",
       "      <td>-28.5</td>\n",
       "      <td>-1.0</td>\n",
       "      <td>-1.0</td>\n",
       "      <td>7641.0</td>\n",
       "    </tr>\n",
       "    <tr>\n",
       "      <th>4</th>\n",
       "      <td>571.0</td>\n",
       "      <td>4.02</td>\n",
       "      <td>0.75</td>\n",
       "      <td>3.08</td>\n",
       "      <td>3.42</td>\n",
       "      <td>3.83</td>\n",
       "      <td>4.50</td>\n",
       "      <td>6.42</td>\n",
       "      <td>571.0</td>\n",
       "      <td>159.25</td>\n",
       "      <td>1151.76</td>\n",
       "      <td>-294.0</td>\n",
       "      <td>-9.0</td>\n",
       "      <td>-1.0</td>\n",
       "      <td>-1.0</td>\n",
       "      <td>7412.0</td>\n",
       "    </tr>\n",
       "  </tbody>\n",
       "</table>\n",
       "</div>"
      ],
      "text/plain": [
       "               monthly_rent_average                                            \\\n",
       "                              count  mean   std   min   25%   50%   75%   max   \n",
       "customer_group                                                                  \n",
       "0                            3332.0  0.67  0.35  0.08  0.42  0.67  0.92  1.33   \n",
       "1                             869.0  2.08  0.50  1.42  1.67  2.00  2.50  3.17   \n",
       "2                            1773.0  0.68  0.34  0.08  0.50  0.67  0.92  1.33   \n",
       "3                            1570.0  2.03  0.45  1.42  1.67  1.92  2.33  3.17   \n",
       "4                             571.0  4.02  0.75  3.08  3.42  3.83  4.50  6.42   \n",
       "\n",
       "               registration_to_rental_days                                     \\\n",
       "                                     count    mean      std    min   25%  50%   \n",
       "customer_group                                                                  \n",
       "0                                   3332.0   77.57   802.69 -340.0 -13.0 -1.0   \n",
       "1                                    869.0   -9.30    79.74 -321.0 -14.0 -1.0   \n",
       "2                                   1773.0   -8.06    76.74 -339.0 -19.0 -1.0   \n",
       "3                                   1570.0  177.73  1168.51 -274.0 -28.5 -1.0   \n",
       "4                                    571.0  159.25  1151.76 -294.0  -9.0 -1.0   \n",
       "\n",
       "                             \n",
       "                75%     max  \n",
       "customer_group               \n",
       "0              -1.0  7641.0  \n",
       "1              -1.0   265.0  \n",
       "2              -1.0   333.0  \n",
       "3              -1.0  7641.0  \n",
       "4              -1.0  7412.0  "
      ]
     },
     "execution_count": 20,
     "metadata": {},
     "output_type": "execute_result"
    }
   ],
   "source": [
    "#Explore the model clustering results - customer groups on monthly_rent_average and registration_to_rental_days\n",
    "np.round(customers.groupby(['customer_group'])[['monthly_rent_average','registration_to_rental_days']].describe(),2)"
   ]
  },
  {
   "cell_type": "code",
   "execution_count": 21,
   "id": "b5752502-93aa-4691-a483-8ed7704d34cf",
   "metadata": {},
   "outputs": [
    {
     "data": {
      "text/html": [
       "<div>\n",
       "<style scoped>\n",
       "    .dataframe tbody tr th:only-of-type {\n",
       "        vertical-align: middle;\n",
       "    }\n",
       "\n",
       "    .dataframe tbody tr th {\n",
       "        vertical-align: top;\n",
       "    }\n",
       "\n",
       "    .dataframe thead tr th {\n",
       "        text-align: left;\n",
       "    }\n",
       "\n",
       "    .dataframe thead tr:last-of-type th {\n",
       "        text-align: right;\n",
       "    }\n",
       "</style>\n",
       "<table border=\"1\" class=\"dataframe\">\n",
       "  <thead>\n",
       "    <tr>\n",
       "      <th></th>\n",
       "      <th colspan=\"8\" halign=\"left\">mean_monthly_rental_revenue</th>\n",
       "      <th colspan=\"8\" halign=\"left\">mean_monthly_rental_duration</th>\n",
       "    </tr>\n",
       "    <tr>\n",
       "      <th></th>\n",
       "      <th>count</th>\n",
       "      <th>mean</th>\n",
       "      <th>std</th>\n",
       "      <th>min</th>\n",
       "      <th>25%</th>\n",
       "      <th>50%</th>\n",
       "      <th>75%</th>\n",
       "      <th>max</th>\n",
       "      <th>count</th>\n",
       "      <th>mean</th>\n",
       "      <th>std</th>\n",
       "      <th>min</th>\n",
       "      <th>25%</th>\n",
       "      <th>50%</th>\n",
       "      <th>75%</th>\n",
       "      <th>max</th>\n",
       "    </tr>\n",
       "    <tr>\n",
       "      <th>customer_group</th>\n",
       "      <th></th>\n",
       "      <th></th>\n",
       "      <th></th>\n",
       "      <th></th>\n",
       "      <th></th>\n",
       "      <th></th>\n",
       "      <th></th>\n",
       "      <th></th>\n",
       "      <th></th>\n",
       "      <th></th>\n",
       "      <th></th>\n",
       "      <th></th>\n",
       "      <th></th>\n",
       "      <th></th>\n",
       "      <th></th>\n",
       "      <th></th>\n",
       "    </tr>\n",
       "  </thead>\n",
       "  <tbody>\n",
       "    <tr>\n",
       "      <th>0</th>\n",
       "      <td>3332.0</td>\n",
       "      <td>14.15</td>\n",
       "      <td>189.97</td>\n",
       "      <td>0.0</td>\n",
       "      <td>1.93</td>\n",
       "      <td>4.31</td>\n",
       "      <td>7.97</td>\n",
       "      <td>10327.59</td>\n",
       "      <td>3332.0</td>\n",
       "      <td>173.14</td>\n",
       "      <td>1998.48</td>\n",
       "      <td>0.0</td>\n",
       "      <td>14.0</td>\n",
       "      <td>22.42</td>\n",
       "      <td>38.0</td>\n",
       "      <td>48296.0</td>\n",
       "    </tr>\n",
       "    <tr>\n",
       "      <th>1</th>\n",
       "      <td>869.0</td>\n",
       "      <td>7.57</td>\n",
       "      <td>13.70</td>\n",
       "      <td>0.0</td>\n",
       "      <td>3.25</td>\n",
       "      <td>4.91</td>\n",
       "      <td>8.18</td>\n",
       "      <td>336.24</td>\n",
       "      <td>869.0</td>\n",
       "      <td>44.98</td>\n",
       "      <td>122.32</td>\n",
       "      <td>0.0</td>\n",
       "      <td>15.0</td>\n",
       "      <td>22.00</td>\n",
       "      <td>35.0</td>\n",
       "      <td>2618.0</td>\n",
       "    </tr>\n",
       "    <tr>\n",
       "      <th>2</th>\n",
       "      <td>1773.0</td>\n",
       "      <td>9.21</td>\n",
       "      <td>52.26</td>\n",
       "      <td>0.0</td>\n",
       "      <td>1.93</td>\n",
       "      <td>4.40</td>\n",
       "      <td>7.73</td>\n",
       "      <td>1759.86</td>\n",
       "      <td>1773.0</td>\n",
       "      <td>103.87</td>\n",
       "      <td>1303.83</td>\n",
       "      <td>0.0</td>\n",
       "      <td>15.0</td>\n",
       "      <td>23.00</td>\n",
       "      <td>37.0</td>\n",
       "      <td>48019.0</td>\n",
       "    </tr>\n",
       "    <tr>\n",
       "      <th>3</th>\n",
       "      <td>1570.0</td>\n",
       "      <td>7.71</td>\n",
       "      <td>12.80</td>\n",
       "      <td>0.0</td>\n",
       "      <td>2.81</td>\n",
       "      <td>4.79</td>\n",
       "      <td>8.16</td>\n",
       "      <td>249.64</td>\n",
       "      <td>1570.0</td>\n",
       "      <td>53.05</td>\n",
       "      <td>161.50</td>\n",
       "      <td>0.0</td>\n",
       "      <td>14.0</td>\n",
       "      <td>21.17</td>\n",
       "      <td>36.0</td>\n",
       "      <td>2884.0</td>\n",
       "    </tr>\n",
       "    <tr>\n",
       "      <th>4</th>\n",
       "      <td>571.0</td>\n",
       "      <td>7.56</td>\n",
       "      <td>16.30</td>\n",
       "      <td>0.0</td>\n",
       "      <td>2.88</td>\n",
       "      <td>4.59</td>\n",
       "      <td>7.70</td>\n",
       "      <td>343.96</td>\n",
       "      <td>571.0</td>\n",
       "      <td>119.31</td>\n",
       "      <td>1749.09</td>\n",
       "      <td>1.0</td>\n",
       "      <td>14.0</td>\n",
       "      <td>20.50</td>\n",
       "      <td>34.0</td>\n",
       "      <td>41751.0</td>\n",
       "    </tr>\n",
       "  </tbody>\n",
       "</table>\n",
       "</div>"
      ],
      "text/plain": [
       "               mean_monthly_rental_revenue                                  \\\n",
       "                                     count   mean     std  min   25%   50%   \n",
       "customer_group                                                               \n",
       "0                                   3332.0  14.15  189.97  0.0  1.93  4.31   \n",
       "1                                    869.0   7.57   13.70  0.0  3.25  4.91   \n",
       "2                                   1773.0   9.21   52.26  0.0  1.93  4.40   \n",
       "3                                   1570.0   7.71   12.80  0.0  2.81  4.79   \n",
       "4                                    571.0   7.56   16.30  0.0  2.88  4.59   \n",
       "\n",
       "                               mean_monthly_rental_duration                   \\\n",
       "                 75%       max                        count    mean      std   \n",
       "customer_group                                                                 \n",
       "0               7.97  10327.59                       3332.0  173.14  1998.48   \n",
       "1               8.18    336.24                        869.0   44.98   122.32   \n",
       "2               7.73   1759.86                       1773.0  103.87  1303.83   \n",
       "3               8.16    249.64                       1570.0   53.05   161.50   \n",
       "4               7.70    343.96                        571.0  119.31  1749.09   \n",
       "\n",
       "                                                 \n",
       "                min   25%    50%   75%      max  \n",
       "customer_group                                   \n",
       "0               0.0  14.0  22.42  38.0  48296.0  \n",
       "1               0.0  15.0  22.00  35.0   2618.0  \n",
       "2               0.0  15.0  23.00  37.0  48019.0  \n",
       "3               0.0  14.0  21.17  36.0   2884.0  \n",
       "4               1.0  14.0  20.50  34.0  41751.0  "
      ]
     },
     "execution_count": 21,
     "metadata": {},
     "output_type": "execute_result"
    }
   ],
   "source": [
    "#Explore the model clustering results - customer groups on mean_monthly_rental_revenue and mean_monthly_rental_duration\n",
    "np.round(customers.groupby(['customer_group'])[['mean_monthly_rental_revenue','mean_monthly_rental_duration']].describe(),2)"
   ]
  },
  {
   "cell_type": "code",
   "execution_count": 22,
   "id": "662cdd14-8843-4e0f-84da-a4e537b2e795",
   "metadata": {},
   "outputs": [
    {
     "data": {
      "image/png": "[encoded data removed]",
      "text/plain": [
       "<Figure size 1152x360 with 1 Axes>"
      ]
     },
     "metadata": {
      "needs_background": "light"
     },
     "output_type": "display_data"
    }
   ],
   "source": [
    "#visualizations\n",
    "\n",
    "#calculate the averages over the groups\n",
    "mean_df = customers.groupby(['customer_group'])['monthly_rent_average','registration_to_rental_days','mean_monthly_rental_revenue','mean_monthly_rental_duration'].mean().reset_index()\n",
    "\n",
    "\n",
    "#plot the monthly_rent_average and mean_monthly_rental_revenue\n",
    "plt.figure(figsize = (16,5))\n",
    "\n",
    "X = list(mean_df.customer_group)\n",
    "rentals = list(mean_df.monthly_rent_average)\n",
    "revenue = list(mean_df.mean_monthly_rental_revenue)\n",
    "  \n",
    "X_axis = np.arange(len(X))\n",
    "  \n",
    "plt.bar(X_axis - 0.2, rentals, 0.4, label = 'monthly_rent_average',color='#003f5c')\n",
    "plt.bar(X_axis + 0.2, revenue, 0.4, label = 'mean_monthly_rental_revenue',color='#bc5090')\n",
    "\n",
    "plt.xticks(X_axis, X)\n",
    "plt.xlabel(\"Customer groups\")\n",
    "plt.ylabel(\"frequency/Amount\")\n",
    "plt.title(\"Plot Showing Customer Group Averages\")\n",
    "plt.legend()\n",
    "plt.show()"
   ]
  },
  {
   "cell_type": "markdown",
   "id": "75855ee9-8aee-4c90-8c1a-faff97b11c22",
   "metadata": {},
   "source": [
    "Note: (**group numbers in the statement below might vary due to model re-build but group dynamics are consistent)"
   ]
  },
  {
   "cell_type": "markdown",
   "id": "62570cb5-ae27-4473-aec1-a87cc3cc253f",
   "metadata": {},
   "source": [
    "#### Observations:\n",
    "1. Group 0 contains customers with less ride frequency but with the highest mean monthly rental revenue.\n",
    "2. Group 4 contains who ride often(to work,school) but possibly for short distances.\n",
    "3. While Group 1 and Group 3 seem similar in both the mean_monthly_rental_avenue & monthly_rent_average."
   ]
  },
  {
   "cell_type": "markdown",
   "id": "7af2ff23-7146-43a9-b894-fce6d54cbdd4",
   "metadata": {},
   "source": [
    "#### Determine Optimal Number of Clusters"
   ]
  },
  {
   "cell_type": "code",
   "execution_count": 23,
   "id": "78938049-9734-418f-bc12-8bc87350788a",
   "metadata": {},
   "outputs": [],
   "source": [
    "#copy the customers_ into optimize_df\n",
    "optimize_df = customers_.copy()\n",
    "\n",
    "#transform the sex column\n",
    "optimize_df = ce_ord.fit_transform(optimize_df) \n",
    "\n",
    "#column transformer\n",
    "optimize_df = ct.fit_transform(optimize_df) "
   ]
  },
  {
   "cell_type": "markdown",
   "id": "8181911c-a232-4dfa-a734-8c9b8d568cda",
   "metadata": {},
   "source": [
    "##### Elbow Method"
   ]
  },
  {
   "cell_type": "code",
   "execution_count": 24,
   "id": "d1d9698d-3650-4695-a5d4-bdfbcd701d86",
   "metadata": {},
   "outputs": [
    {
     "data": {
      "image/png": "[encoded data removed]",
      "text/plain": [
       "<Figure size 576x396 with 2 Axes>"
      ]
     },
     "metadata": {},
     "output_type": "display_data"
    },
    {
     "data": {
      "text/plain": [
       "<matplotlib.axes._subplots.AxesSubplot at 0x7f87fca8d3a0>"
      ]
     },
     "execution_count": 24,
     "metadata": {},
     "output_type": "execute_result"
    }
   ],
   "source": [
    "from yellowbrick.cluster import KElbowVisualizer\n",
    "\n",
    "visualizer = KElbowVisualizer(pipe_kmeans[2], k=(1,10))  #pipe_kmeans[2] is the model\n",
    "\n",
    "visualizer.fit(optimize_df)\n",
    "\n",
    "visualizer.show()"
   ]
  },
  {
   "cell_type": "code",
   "execution_count": 25,
   "id": "953123dc-c215-4604-99ef-ce97c224a9ab",
   "metadata": {},
   "outputs": [
    {
     "data": {
      "image/png": "[encoded data removed]",
      "text/plain": [
       "<Figure size 576x396 with 2 Axes>"
      ]
     },
     "metadata": {},
     "output_type": "display_data"
    },
    {
     "data": {
      "text/plain": [
       "<matplotlib.axes._subplots.AxesSubplot at 0x7f87fcfc94c0>"
      ]
     },
     "execution_count": 25,
     "metadata": {},
     "output_type": "execute_result"
    }
   ],
   "source": [
    "visualizer = KElbowVisualizer(pipe_minibatch[2], k=(1,10))  #pipe_kmeans[2] is the model\n",
    "\n",
    "visualizer.fit(optimize_df)\n",
    "\n",
    "visualizer.show()"
   ]
  },
  {
   "cell_type": "markdown",
   "id": "c3cf4b96-8e76-4cc2-930c-e4b2032ad746",
   "metadata": {},
   "source": [
    "##### Silhouette Coefficient"
   ]
  },
  {
   "cell_type": "code",
   "execution_count": 26,
   "id": "92dd72ab-90df-420b-88dd-cd72cda72df3",
   "metadata": {},
   "outputs": [
    {
     "data": {
      "image/png": "[encoded data removed]",
      "text/plain": [
       "<Figure size 576x396 with 2 Axes>"
      ]
     },
     "metadata": {},
     "output_type": "display_data"
    },
    {
     "data": {
      "text/plain": [
       "<matplotlib.axes._subplots.AxesSubplot at 0x7f87fcf45700>"
      ]
     },
     "execution_count": 26,
     "metadata": {},
     "output_type": "execute_result"
    }
   ],
   "source": [
    "visualizer_sil = KElbowVisualizer(pipe_kmeans[2], k=(2,10),metric='silhouette', timings= True)  #pipe_kmeans[2] is the model\n",
    "\n",
    "visualizer_sil.fit(optimize_df)\n",
    "\n",
    "visualizer_sil.show()"
   ]
  },
  {
   "cell_type": "code",
   "execution_count": 27,
   "id": "ca8d79e8-4770-4136-8503-90743db61aae",
   "metadata": {},
   "outputs": [
    {
     "data": {
      "image/png": "[encoded data removed]",
      "text/plain": [
       "<Figure size 576x396 with 2 Axes>"
      ]
     },
     "metadata": {},
     "output_type": "display_data"
    },
    {
     "data": {
      "text/plain": [
       "<matplotlib.axes._subplots.AxesSubplot at 0x7f87fcf45cd0>"
      ]
     },
     "execution_count": 27,
     "metadata": {},
     "output_type": "execute_result"
    }
   ],
   "source": [
    "visualizer_sil = KElbowVisualizer(pipe_minibatch[2], k=(2,10),metric='silhouette', timings= True)  #pipe_kmeans[2] is the model\n",
    "\n",
    "visualizer_sil.fit(optimize_df)\n",
    "\n",
    "visualizer_sil.show()"
   ]
  },
  {
   "cell_type": "markdown",
   "id": "c15b78d7-73fe-4073-855c-21a4b7e56611",
   "metadata": {},
   "source": [
    "##### Calinski-Harabasz Index"
   ]
  },
  {
   "cell_type": "code",
   "execution_count": 31,
   "id": "d2e9cb52-75d3-448e-a12b-20484e968703",
   "metadata": {},
   "outputs": [
    {
     "data": {
      "image/png": "[encoded data removed]",
      "text/plain": [
       "<Figure size 576x396 with 2 Axes>"
      ]
     },
     "metadata": {},
     "output_type": "display_data"
    },
    {
     "data": {
      "text/plain": [
       "<matplotlib.axes._subplots.AxesSubplot at 0x7f87fcfdec40>"
      ]
     },
     "execution_count": 31,
     "metadata": {},
     "output_type": "execute_result"
    }
   ],
   "source": [
    "visualizer_cal = KElbowVisualizer(pipe_kmeans[2], k=(2,10),metric='calinski_harabasz', timings= True)  #pipe_kmeans[2] is the model\n",
    "\n",
    "visualizer_cal.fit(optimize_df)\n",
    "\n",
    "visualizer_cal.show()"
   ]
  },
  {
   "cell_type": "code",
   "execution_count": 29,
   "id": "99e4b5ce-658e-4665-ad5f-932d791fcf41",
   "metadata": {},
   "outputs": [
    {
     "data": {
      "image/png": "[encoded data removed]",
      "text/plain": [
       "<Figure size 576x396 with 2 Axes>"
      ]
     },
     "metadata": {},
     "output_type": "display_data"
    },
    {
     "data": {
      "text/plain": [
       "<matplotlib.axes._subplots.AxesSubplot at 0x7f87b1fd5790>"
      ]
     },
     "execution_count": 29,
     "metadata": {},
     "output_type": "execute_result"
    }
   ],
   "source": [
    "visualizer_cal = KElbowVisualizer(pipe_minibatch[2], k=(2,10),metric='calinski_harabasz', timings= True)  #pipe_kmeans[2] is the model\n",
    "\n",
    "visualizer_cal.fit(optimize_df)\n",
    "\n",
    "visualizer_cal.show()"
   ]
  },
  {
   "cell_type": "code",
   "execution_count": null,
   "id": "fbd94844-de08-4497-899c-2797691f4a5f",
   "metadata": {},
   "outputs": [],
   "source": []
  }
 ],
 "metadata": {
  "kernelspec": {
   "display_name": "Python 3 (ipykernel)",
   "language": "python",
   "name": "python3"
  },
  "language_info": {
   "codemirror_mode": {
    "name": "ipython",
    "version": 3
   },
   "file_extension": ".py",
   "mimetype": "text/x-python",
   "name": "python",
   "nbconvert_exporter": "python",
   "pygments_lexer": "ipython3",
   "version": "3.8.11"
  }
 },
 "nbformat": 4,
 "nbformat_minor": 5
}
